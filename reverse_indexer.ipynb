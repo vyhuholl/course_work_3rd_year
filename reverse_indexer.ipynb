{
 "cells": [
  {
   "cell_type": "code",
   "execution_count": null,
   "metadata": {},
   "outputs": [],
   "source": [
    "# Для каждого слова -- кроме самых частотных, служебных, числительных и именованных сущностей\n",
    "# считаем, в какие даты оно упоминается.\n",
    "import pickle\n",
    "import pymorphy2\n",
    "import pandas as pd\n",
    "from nltk.corpus import stopwords\n",
    "from ner.network import NER\n",
    "from ner.corpus import Corpus"
   ]
  },
  {
   "cell_type": "code",
   "execution_count": null,
   "metadata": {},
   "outputs": [],
   "source": [
    "with open(\"texts.pkl\", \"rb\") as file:\n",
    "    data = pickle.load(file)"
   ]
  },
  {
   "cell_type": "code",
   "execution_count": null,
   "metadata": {},
   "outputs": [],
   "source": [
    "data = data.reset_index(drop=True)"
   ]
  },
  {
   "cell_type": "code",
   "execution_count": null,
   "metadata": {},
   "outputs": [],
   "source": [
    "data.head()"
   ]
  },
  {
   "cell_type": "code",
   "execution_count": null,
   "metadata": {},
   "outputs": [],
   "source": [
    "morph = pymorphy2.MorphAnalyzer()\n",
    "stopwords = set(stopwords.words('russian'))\n",
    "\n",
    "def tokenize(text):\n",
    "    return ([word.strip('.,:;?!()\"\"''') for word in text.split(\" \")])\n",
    "\n",
    "def lemmatize(text):\n",
    "    return (\" \".join([morph.parse(word)[0].normal_form for word in tokenize(text)]))"
   ]
  },
  {
   "cell_type": "code",
   "execution_count": null,
   "metadata": {},
   "outputs": [],
   "source": [
    "def is_ok(word):\n",
    "    if word in stopwords:\n",
    "        return (False)\n",
    "    if 'NUMR' in morph.parse(word)[0].tag:\n",
    "        return (False)\n",
    "    return (True)"
   ]
  }
 ],
 "metadata": {
  "kernelspec": {
   "display_name": "Python 3",
   "language": "python",
   "name": "python3"
  },
  "language_info": {
   "codemirror_mode": {
    "name": "ipython",
    "version": 3
   },
   "file_extension": ".py",
   "mimetype": "text/x-python",
   "name": "python",
   "nbconvert_exporter": "python",
   "pygments_lexer": "ipython3",
   "version": "3.6.8"
  }
 },
 "nbformat": 4,
 "nbformat_minor": 2
}
