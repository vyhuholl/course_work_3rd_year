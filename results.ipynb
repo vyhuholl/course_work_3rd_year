{
 "cells": [
  {
   "cell_type": "code",
   "execution_count": 1,
   "metadata": {},
   "outputs": [],
   "source": [
    "import os\n",
    "import re\n",
    "import http\n",
    "import pickle\n",
    "import random\n",
    "import numpy as np\n",
    "import matplotlib.pyplot as plt\n",
    "from urllib.parse import quote\n",
    "from urllib.request import urlopen, Request\n",
    "from bs4 import BeautifulSoup\n",
    "from matplotlib.dates import DateFormatter\n",
    "from datetime import timedelta, date\n",
    "from dateutil.relativedelta import relativedelta\n",
    "from IPython.display import clear_output"
   ]
  },
  {
   "cell_type": "code",
   "execution_count": 2,
   "metadata": {},
   "outputs": [],
   "source": [
    "import pandas as pd\n",
    "\n",
    "results = list(pd.read_csv(\"results.csv\", sep = ';')[\"Слово\"])"
   ]
  },
  {
   "cell_type": "code",
   "execution_count": 3,
   "metadata": {},
   "outputs": [],
   "source": [
    "with open(\"inverted_index.pkl\", \"rb\") as file:\n",
    "    inverted_index = pickle.load(file)"
   ]
  },
  {
   "cell_type": "markdown",
   "metadata": {},
   "source": [
    "Так как даже очень частотные слова не встречаются в корпусе каждый день, график встречаемости слов, построенный с учётом каждого дня, был бы слишком рваным и не дал бы нужной информации. Необходимо выполнить сглаживание -- например, считать вхождения не для каждого дня, а для каждого месяца."
   ]
  },
  {
   "cell_type": "code",
   "execution_count": 4,
   "metadata": {},
   "outputs": [],
   "source": [
    "# Функция, получающая на вход список дат и возвращающая список длиной n,\n",
    "# где n -- количество месяцев от start_date до end_date,\n",
    "# в котором i-тое значение -- количество вхождений слова за i-тый месяц.\n",
    "# Так как объект timedelta не имеет атрибута months (только days, seconds и microseconds),\n",
    "# индекс каждого месяца придётся считать вручную.\n",
    "def smoothing(word):\n",
    "    dates = inverted_index[word]\n",
    "    new_dates = [0 for i in range(228)]\n",
    "    # между 01.01.2000 и 01.01.2019 всего прошло 19 * 12 = 228 месяцев.\n",
    "    for date in dates:\n",
    "        index = 12 * (date.year - 2000) + date.month - 1\n",
    "        # Считаем индекс текущего месяца\n",
    "        # если январь 2000 года имеет индекс 0, а декабрь 2018 -- 227.\n",
    "        new_dates[index] += 1\n",
    "    return (new_dates)"
   ]
  },
  {
   "cell_type": "code",
   "execution_count": 5,
   "metadata": {},
   "outputs": [],
   "source": [
    "def daterange_months(start_date):\n",
    "    # вспомогательная функция, упрощающая итерацию по месяцам\n",
    "    for n in range(228):\n",
    "        yield start_date + relativedelta(months=n)"
   ]
  },
  {
   "cell_type": "code",
   "execution_count": 6,
   "metadata": {},
   "outputs": [],
   "source": [
    "# список всех месяцев от января 2000 года до декабря 2019 года\n",
    "dates = [date for date in daterange_months(date(2000, 1, 1))]\n",
    "formatter = DateFormatter('%m/%Y')\n",
    "\n",
    "# функция, строящая график встречаемости слова.\n",
    "def plot_by_month(word):\n",
    "    x = smoothing(word)\n",
    "    fig, ax = plt.subplots(figsize=(20, 10))\n",
    "    plt.plot(dates, x)\n",
    "    ax.xaxis.set_major_formatter(formatter)\n",
    "    ax.set_title(word)\n",
    "    plt.show()"
   ]
  },
  {
   "cell_type": "code",
   "execution_count": 6,
   "metadata": {},
   "outputs": [
    {
     "name": "stdout",
     "output_type": "stream",
     "text": [
      "зиглера: [datetime.date(2002, 7, 10), datetime.date(2005, 10, 14), datetime.date(2005, 10, 14), datetime.date(2007, 6, 18), datetime.date(2007, 6, 18), datetime.date(2007, 6, 18), datetime.date(2009, 2, 9), datetime.date(2011, 7, 26), datetime.date(2016, 8, 23)]\n"
     ]
    }
   ],
   "source": [
    "# Попробуем построить график встречаемости случайного достаточно частотного слова.\n",
    "word = random.choice(list(inverted_index.keys()))\n",
    "print(f\"{word}: {inverted_index[word]}\")"
   ]
  },
  {
   "cell_type": "code",
   "execution_count": 7,
   "metadata": {},
   "outputs": [
    {
     "data": {
      "image/png": "[encoded data removed]",
      "text/plain": [
       "<Figure size 1440x720 with 1 Axes>"
      ]
     },
     "metadata": {
      "needs_background": "light"
     },
     "output_type": "display_data"
    }
   ],
   "source": [
    "plot_by_month(word)\n",
    "# график всё ещё рваный, но уже меньше\n",
    "# применить методы сглаживания, имеющиеся в библиотеке scipy,\n",
    "# не позволяло то, что по оси x лежат даты в формате datetime.date"
   ]
  },
  {
   "cell_type": "markdown",
   "metadata": {},
   "source": [
    "Будем считать словами с короткой историей слова, год появления которых >= 2002, а год исчезновения <= 2017. Исключим слова, у которых < 5 вхождений и слова, написанные латиницей. Кроме того, сделаем дополнительную проверку на то, является ли слово именованной сущностью (т. к., библиотека NER часто пропускает именованные сущности) -- проверим, имеется ли посвящённая слову страница в википедии."
   ]
  },
  {
   "cell_type": "code",
   "execution_count": 8,
   "metadata": {},
   "outputs": [],
   "source": [
    "def download_page(pageUrl):\n",
    "    # функция, скачивающая страницу\n",
    "    req = Request(url=pageUrl)\n",
    "    try:\n",
    "        page = urlopen(req).read()\n",
    "    except (http.client.IncompleteRead) as e:\n",
    "        page = e.partial\n",
    "    except:\n",
    "        page = \"error\"\n",
    "    return page"
   ]
  },
  {
   "cell_type": "code",
   "execution_count": 9,
   "metadata": {},
   "outputs": [],
   "source": [
    "common_url = \"https://ru.wikipedia.org/wiki/\"\n",
    "\n",
    "def is_wiki_page(word):\n",
    "    page = BeautifulSoup(download_page(common_url + quote(word)), \"html.parser\")\n",
    "    return(page != \"error\" and page.find(\"div\", {\"class\": \"mw-normal-catlinks\"}) is not None)"
   ]
  },
  {
   "cell_type": "code",
   "execution_count": 10,
   "metadata": {},
   "outputs": [],
   "source": [
    "results = []"
   ]
  },
  {
   "cell_type": "code",
   "execution_count": 11,
   "metadata": {},
   "outputs": [],
   "source": [
    "for word in inverted_index.keys():\n",
    "    if len(inverted_index[word]) >= 5 \\\n",
    "    and inverted_index[word][0].year >= 2002 \\\n",
    "    and inverted_index[word][-1].year <= 2017 \\\n",
    "    and not bool(re.search('[^а-яА-Я]', word)):\n",
    "        results.append(word)"
   ]
  },
  {
   "cell_type": "code",
   "execution_count": 12,
   "metadata": {},
   "outputs": [],
   "source": [
    "for word in results:\n",
    "    print(word)\n",
    "    if is_wiki_page(word) is True:\n",
    "        results.remove(word)\n",
    "    clear_output()"
   ]
  },
  {
   "cell_type": "code",
   "execution_count": 13,
   "metadata": {},
   "outputs": [
    {
     "data": {
      "text/plain": [
       "35970"
      ]
     },
     "execution_count": 13,
     "metadata": {},
     "output_type": "execute_result"
    }
   ],
   "source": [
    "len(results)"
   ]
  },
  {
   "cell_type": "code",
   "execution_count": 14,
   "metadata": {},
   "outputs": [],
   "source": [
    "with open(\"results.csv\", \"w\") as file:\n",
    "    file.write(\"Слово;Первое вхождение;Последнее вхождение\\n\")\n",
    "    for word in results:\n",
    "        file.write(f\"{word};{inverted_index[word][0]};{inverted_index[word][-1]}\\n\")"
   ]
  },
  {
   "cell_type": "code",
   "execution_count": 7,
   "metadata": {},
   "outputs": [],
   "source": [
    "def plot_and_save(word):\n",
    "    x = smoothing(word)\n",
    "    fig, ax = plt.subplots(figsize=(20, 10))\n",
    "    plt.plot(dates, x)\n",
    "    ax.xaxis.set_major_formatter(formatter)\n",
    "    ax.set_title(word)\n",
    "    plt.savefig(os.path.join('graphs', word))\n",
    "    plt.close()"
   ]
  },
  {
   "cell_type": "code",
   "execution_count": 10,
   "metadata": {},
   "outputs": [
    {
     "name": "stderr",
     "output_type": "stream",
     "text": [
      "/Users/olgapichuzhkina/anaconda3/lib/python3.6/site-packages/pandas/plotting/_converter.py:129: FutureWarning: Using an implicitly registered datetime converter for a matplotlib plotting method. The converter was registered by pandas on import. Future versions of pandas will require you to explicitly register matplotlib converters.\n",
      "\n",
      "To register the converters:\n",
      "\t>>> from pandas.plotting import register_matplotlib_converters\n",
      "\t>>> register_matplotlib_converters()\n",
      "  warnings.warn(msg, FutureWarning)\n"
     ]
    }
   ],
   "source": [
    "for word in results:\n",
    "    plot_and_save(word)"
   ]
  },
  {
   "cell_type": "code",
   "execution_count": null,
   "metadata": {},
   "outputs": [],
   "source": []
  }
 ],
 "metadata": {
  "kernelspec": {
   "display_name": "Python 3",
   "language": "python",
   "name": "python3"
  },
  "language_info": {
   "codemirror_mode": {
    "name": "ipython",
    "version": 3
   },
   "file_extension": ".py",
   "mimetype": "text/x-python",
   "name": "python",
   "nbconvert_exporter": "python",
   "pygments_lexer": "ipython3",
   "version": "3.6.8"
  }
 },
 "nbformat": 4,
 "nbformat_minor": 2
}
