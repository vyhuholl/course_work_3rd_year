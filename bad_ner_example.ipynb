{
 "cells": [
  {
   "cell_type": "code",
   "execution_count": 1,
   "metadata": {},
   "outputs": [],
   "source": [
    "import pickle\n",
    "import json\n",
    "import pymorphy2\n",
    "import pandas as pd\n",
    "from ner.network import NER\n",
    "from ner.corpus import Corpus\n",
    "from nltk.corpus import stopwords"
   ]
  },
  {
   "cell_type": "code",
   "execution_count": 2,
   "metadata": {},
   "outputs": [],
   "source": [
    "with open(\"texts.pkl\", \"rb\") as file:\n",
    "    data = pickle.load(file)"
   ]
  },
  {
   "cell_type": "code",
   "execution_count": 3,
   "metadata": {},
   "outputs": [],
   "source": [
    "data = data.reset_index(drop=True)"
   ]
  },
  {
   "cell_type": "code",
   "execution_count": 4,
   "metadata": {},
   "outputs": [
    {
     "data": {
      "text/html": [
       "<div>\n",
       "<style scoped>\n",
       "    .dataframe tbody tr th:only-of-type {\n",
       "        vertical-align: middle;\n",
       "    }\n",
       "\n",
       "    .dataframe tbody tr th {\n",
       "        vertical-align: top;\n",
       "    }\n",
       "\n",
       "    .dataframe thead th {\n",
       "        text-align: right;\n",
       "    }\n",
       "</style>\n",
       "<table border=\"1\" class=\"dataframe\">\n",
       "  <thead>\n",
       "    <tr style=\"text-align: right;\">\n",
       "      <th></th>\n",
       "      <th>source</th>\n",
       "      <th>author</th>\n",
       "      <th>text</th>\n",
       "      <th>date</th>\n",
       "    </tr>\n",
       "  </thead>\n",
       "  <tbody>\n",
       "    <tr>\n",
       "      <th>0</th>\n",
       "      <td>Lenta.ru</td>\n",
       "      <td>Unknown</td>\n",
       "      <td>Вопреки апокалиптическим прогнозам американски...</td>\n",
       "      <td>2000-01-01</td>\n",
       "    </tr>\n",
       "    <tr>\n",
       "      <th>1</th>\n",
       "      <td>Интерфакс</td>\n",
       "      <td>Unknown</td>\n",
       "      <td>Мадрид не выдаст Венесуэле укрывшегося в посо...</td>\n",
       "      <td>2000-01-01</td>\n",
       "    </tr>\n",
       "    <tr>\n",
       "      <th>2</th>\n",
       "      <td>Интерфакс</td>\n",
       "      <td>Unknown</td>\n",
       "      <td>Пожар на складе резины произошел в промзоне Н...</td>\n",
       "      <td>2000-01-01</td>\n",
       "    </tr>\n",
       "    <tr>\n",
       "      <th>3</th>\n",
       "      <td>Интерфакс</td>\n",
       "      <td>Unknown</td>\n",
       "      <td>Полиция Нью-Йорка обвинила трех подростков в ...</td>\n",
       "      <td>2000-01-01</td>\n",
       "    </tr>\n",
       "    <tr>\n",
       "      <th>4</th>\n",
       "      <td>Интерфакс</td>\n",
       "      <td>Unknown</td>\n",
       "      <td>Трамп направил кандидатуру постпреда США при ...</td>\n",
       "      <td>2000-01-01</td>\n",
       "    </tr>\n",
       "  </tbody>\n",
       "</table>\n",
       "</div>"
      ],
      "text/plain": [
       "      source   author                                               text  \\\n",
       "0   Lenta.ru  Unknown  Вопреки апокалиптическим прогнозам американски...   \n",
       "1  Интерфакс  Unknown   Мадрид не выдаст Венесуэле укрывшегося в посо...   \n",
       "2  Интерфакс  Unknown   Пожар на складе резины произошел в промзоне Н...   \n",
       "3  Интерфакс  Unknown   Полиция Нью-Йорка обвинила трех подростков в ...   \n",
       "4  Интерфакс  Unknown   Трамп направил кандидатуру постпреда США при ...   \n",
       "\n",
       "         date  \n",
       "0  2000-01-01  \n",
       "1  2000-01-01  \n",
       "2  2000-01-01  \n",
       "3  2000-01-01  \n",
       "4  2000-01-01  "
      ]
     },
     "execution_count": 4,
     "metadata": {},
     "output_type": "execute_result"
    }
   ],
   "source": [
    "data.head()"
   ]
  },
  {
   "cell_type": "code",
   "execution_count": 5,
   "metadata": {},
   "outputs": [],
   "source": [
    "morph = pymorphy2.MorphAnalyzer()\n",
    "\n",
    "def tokenize(text):\n",
    "    return ([word.strip('.,:;?!()\"\"''') for word in text.split(\" \")])\n",
    "\n",
    "def lemmatize(text):\n",
    "    return ([morph.parse(word)[0].normal_form for word in tokenize(text)])"
   ]
  },
  {
   "cell_type": "code",
   "execution_count": 6,
   "metadata": {},
   "outputs": [
    {
     "name": "stderr",
     "output_type": "stream",
     "text": [
      "/Users/olgapichuzhkina/anaconda3/lib/python3.6/site-packages/tensorflow/python/ops/gradients_impl.py:95: UserWarning: Converting sparse IndexedSlices to a dense Tensor of unknown shape. This may consume a large amount of memory.\n",
      "  \"Converting sparse IndexedSlices to a dense Tensor of unknown shape. \"\n"
     ]
    },
    {
     "name": "stdout",
     "output_type": "stream",
     "text": [
      "INFO:tensorflow:Restoring parameters from model/ner_model\n"
     ]
    }
   ],
   "source": [
    "with open('model/params.json') as f:\n",
    "    network_params = json.load(f)\n",
    "\n",
    "corpus = Corpus(dicts_filepath='model/dict.txt')\n",
    "\n",
    "network = NER(corpus, verbouse=False, pretrained_model_filepath='model/ner_model', **network_params)"
   ]
  },
  {
   "cell_type": "code",
   "execution_count": 8,
   "metadata": {},
   "outputs": [
    {
     "name": "stdout",
     "output_type": "stream",
     "text": [
      "в: O, пятница: O, около: O, 23:10: O, в: O, дом: O, 20: O, на: O, улица: O, генерал: O, кузнецов: B-PER, в: O, москва: B-LOC, быть: O, убитый: O, генеральный: O, директор: O, ооо: B-ORG, андреас: I-ORG, игорь: B-PER, волобуев: I-PER, как: O, сообщать: O, риа: O, новость: O, неизвестный: O, преступник: O, трижды: O, выстрелить: O, в: O, 42-летний: O, бизнесмен: O, из: O, автомат: O, калашников: B-PER, с: O, глушитель: O, затем: O, он: O, произвести: O, четыре: O, контрольный: O, выстрел: O, в: O, голова: O, тело: O, убитый: O, обнаружить: O, в: O, кабина: O, лифт: O, он: O, жена: O, вестись: O, расследование: O, правоохранительный: O, орган: O, устанавливать: O, круг: O, связь: O, убитый: O, ооо: B-ORG, андреас: I-ORG, который: I-ORG, возглавлять: O, волобуев: O, специализироваться: O, на: O, продажа: O, недвижимость: O\n"
     ]
    }
   ],
   "source": [
    "text = lemmatize(data[\"text\"][10000])\n",
    "tags = network.predict_for_token_batch([text])[0]\n",
    "print(', '.join([f\"{word}: {tag}\" for word, tag in zip(text, tags)]))"
   ]
  },
  {
   "cell_type": "code",
   "execution_count": null,
   "metadata": {},
   "outputs": [],
   "source": []
  }
 ],
 "metadata": {
  "kernelspec": {
   "display_name": "Python 3",
   "language": "python",
   "name": "python3"
  },
  "language_info": {
   "codemirror_mode": {
    "name": "ipython",
    "version": 3
   },
   "file_extension": ".py",
   "mimetype": "text/x-python",
   "name": "python",
   "nbconvert_exporter": "python",
   "pygments_lexer": "ipython3",
   "version": "3.6.8"
  }
 },
 "nbformat": 4,
 "nbformat_minor": 2
}
