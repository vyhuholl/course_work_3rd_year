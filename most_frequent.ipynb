{
 "cells": [
  {
   "cell_type": "code",
   "execution_count": 1,
   "metadata": {},
   "outputs": [],
   "source": [
    "import pandas as pd"
   ]
  },
  {
   "cell_type": "code",
   "execution_count": 2,
   "metadata": {},
   "outputs": [],
   "source": [
    "freq_dict = pd.read_csv(\"freqrnc2011.csv\", sep='\\t')"
   ]
  },
  {
   "cell_type": "code",
   "execution_count": 3,
   "metadata": {},
   "outputs": [
    {
     "data": {
      "text/html": [
       "<div>\n",
       "<style scoped>\n",
       "    .dataframe tbody tr th:only-of-type {\n",
       "        vertical-align: middle;\n",
       "    }\n",
       "\n",
       "    .dataframe tbody tr th {\n",
       "        vertical-align: top;\n",
       "    }\n",
       "\n",
       "    .dataframe thead th {\n",
       "        text-align: right;\n",
       "    }\n",
       "</style>\n",
       "<table border=\"1\" class=\"dataframe\">\n",
       "  <thead>\n",
       "    <tr style=\"text-align: right;\">\n",
       "      <th></th>\n",
       "      <th>Lemma</th>\n",
       "      <th>PoS</th>\n",
       "      <th>Freq(ipm)</th>\n",
       "      <th>R</th>\n",
       "      <th>D</th>\n",
       "      <th>Doc</th>\n",
       "    </tr>\n",
       "  </thead>\n",
       "  <tbody>\n",
       "    <tr>\n",
       "      <th>0</th>\n",
       "      <td>а</td>\n",
       "      <td>conj</td>\n",
       "      <td>8198.0</td>\n",
       "      <td>100</td>\n",
       "      <td>97</td>\n",
       "      <td>32332</td>\n",
       "    </tr>\n",
       "    <tr>\n",
       "      <th>1</th>\n",
       "      <td>а</td>\n",
       "      <td>intj</td>\n",
       "      <td>19.8</td>\n",
       "      <td>99</td>\n",
       "      <td>90</td>\n",
       "      <td>757</td>\n",
       "    </tr>\n",
       "    <tr>\n",
       "      <th>2</th>\n",
       "      <td>а</td>\n",
       "      <td>part</td>\n",
       "      <td>6.1</td>\n",
       "      <td>59</td>\n",
       "      <td>79</td>\n",
       "      <td>128</td>\n",
       "    </tr>\n",
       "    <tr>\n",
       "      <th>3</th>\n",
       "      <td>а</td>\n",
       "      <td>s</td>\n",
       "      <td>2.7</td>\n",
       "      <td>59</td>\n",
       "      <td>85</td>\n",
       "      <td>160</td>\n",
       "    </tr>\n",
       "    <tr>\n",
       "      <th>4</th>\n",
       "      <td>аа</td>\n",
       "      <td>intj</td>\n",
       "      <td>1.5</td>\n",
       "      <td>47</td>\n",
       "      <td>80</td>\n",
       "      <td>68</td>\n",
       "    </tr>\n",
       "  </tbody>\n",
       "</table>\n",
       "</div>"
      ],
      "text/plain": [
       "  Lemma   PoS  Freq(ipm)    R   D    Doc\n",
       "0     а  conj     8198.0  100  97  32332\n",
       "1     а  intj       19.8   99  90    757\n",
       "2     а  part        6.1   59  79    128\n",
       "3     а     s        2.7   59  85    160\n",
       "4    аа  intj        1.5   47  80     68"
      ]
     },
     "execution_count": 3,
     "metadata": {},
     "output_type": "execute_result"
    }
   ],
   "source": [
    "freq_dict.head()"
   ]
  },
  {
   "cell_type": "code",
   "execution_count": 4,
   "metadata": {},
   "outputs": [],
   "source": [
    "freq_dict = freq_dict.sort_values(by=\"Freq(ipm)\", ascending=False)\n",
    "freq_dict = freq_dict.reset_index(drop=True)"
   ]
  },
  {
   "cell_type": "code",
   "execution_count": 5,
   "metadata": {},
   "outputs": [
    {
     "data": {
      "text/html": [
       "<div>\n",
       "<style scoped>\n",
       "    .dataframe tbody tr th:only-of-type {\n",
       "        vertical-align: middle;\n",
       "    }\n",
       "\n",
       "    .dataframe tbody tr th {\n",
       "        vertical-align: top;\n",
       "    }\n",
       "\n",
       "    .dataframe thead th {\n",
       "        text-align: right;\n",
       "    }\n",
       "</style>\n",
       "<table border=\"1\" class=\"dataframe\">\n",
       "  <thead>\n",
       "    <tr style=\"text-align: right;\">\n",
       "      <th></th>\n",
       "      <th>Lemma</th>\n",
       "      <th>PoS</th>\n",
       "      <th>Freq(ipm)</th>\n",
       "      <th>R</th>\n",
       "      <th>D</th>\n",
       "      <th>Doc</th>\n",
       "    </tr>\n",
       "  </thead>\n",
       "  <tbody>\n",
       "    <tr>\n",
       "      <th>0</th>\n",
       "      <td>и</td>\n",
       "      <td>conj</td>\n",
       "      <td>35801.8</td>\n",
       "      <td>100</td>\n",
       "      <td>99</td>\n",
       "      <td>37704</td>\n",
       "    </tr>\n",
       "    <tr>\n",
       "      <th>1</th>\n",
       "      <td>в</td>\n",
       "      <td>pr</td>\n",
       "      <td>31374.2</td>\n",
       "      <td>100</td>\n",
       "      <td>98</td>\n",
       "      <td>37865</td>\n",
       "    </tr>\n",
       "    <tr>\n",
       "      <th>2</th>\n",
       "      <td>не</td>\n",
       "      <td>part</td>\n",
       "      <td>18028.0</td>\n",
       "      <td>100</td>\n",
       "      <td>97</td>\n",
       "      <td>33999</td>\n",
       "    </tr>\n",
       "    <tr>\n",
       "      <th>3</th>\n",
       "      <td>на</td>\n",
       "      <td>pr</td>\n",
       "      <td>15867.3</td>\n",
       "      <td>100</td>\n",
       "      <td>98</td>\n",
       "      <td>36748</td>\n",
       "    </tr>\n",
       "    <tr>\n",
       "      <th>4</th>\n",
       "      <td>я</td>\n",
       "      <td>spro</td>\n",
       "      <td>12684.4</td>\n",
       "      <td>100</td>\n",
       "      <td>95</td>\n",
       "      <td>17116</td>\n",
       "    </tr>\n",
       "  </tbody>\n",
       "</table>\n",
       "</div>"
      ],
      "text/plain": [
       "  Lemma   PoS  Freq(ipm)    R   D    Doc\n",
       "0     и  conj    35801.8  100  99  37704\n",
       "1     в    pr    31374.2  100  98  37865\n",
       "2    не  part    18028.0  100  97  33999\n",
       "3    на    pr    15867.3  100  98  36748\n",
       "4     я  spro    12684.4  100  95  17116"
      ]
     },
     "execution_count": 5,
     "metadata": {},
     "output_type": "execute_result"
    }
   ],
   "source": [
    "freq_dict.head()"
   ]
  },
  {
   "cell_type": "code",
   "execution_count": null,
   "metadata": {},
   "outputs": [],
   "source": [
    "with open(\"most_freqien\")"
   ]
  }
 ],
 "metadata": {
  "kernelspec": {
   "display_name": "Python 3",
   "language": "python",
   "name": "python3"
  },
  "language_info": {
   "codemirror_mode": {
    "name": "ipython",
    "version": 3
   },
   "file_extension": ".py",
   "mimetype": "text/x-python",
   "name": "python",
   "nbconvert_exporter": "python",
   "pygments_lexer": "ipython3",
   "version": "3.6.8"
  }
 },
 "nbformat": 4,
 "nbformat_minor": 2
}
